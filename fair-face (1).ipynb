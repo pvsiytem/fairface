{
 "cells": [
  {
   "cell_type": "code",
   "execution_count": 1,
   "id": "ef880142",
   "metadata": {
    "_cell_guid": "b1076dfc-b9ad-4769-8c92-a6c4dae69d19",
    "_uuid": "8f2839f25d086af736a60e9eeb907d3b93b6e0e5",
    "execution": {
     "iopub.execute_input": "2024-12-17T13:57:18.551964Z",
     "iopub.status.busy": "2024-12-17T13:57:18.551431Z",
     "iopub.status.idle": "2024-12-17T13:59:53.814423Z",
     "shell.execute_reply": "2024-12-17T13:59:53.813432Z"
    },
    "papermill": {
     "duration": 155.271239,
     "end_time": "2024-12-17T13:59:53.816623",
     "exception": false,
     "start_time": "2024-12-17T13:57:18.545384",
     "status": "completed"
    },
    "tags": []
   },
   "outputs": [],
   "source": [
    "import os\n",
    "\n",
    "for dirname, _, filenames in os.walk('/kaggle/input'):\n",
    "    for filename in filenames:\n",
    "        pass  # Do nothing with the file paths"
   ]
  },
  {
   "cell_type": "code",
   "execution_count": 2,
   "id": "ad7119d5",
   "metadata": {
    "execution": {
     "iopub.execute_input": "2024-12-17T13:59:53.822246Z",
     "iopub.status.busy": "2024-12-17T13:59:53.821972Z",
     "iopub.status.idle": "2024-12-17T13:59:56.184058Z",
     "shell.execute_reply": "2024-12-17T13:59:56.183359Z"
    },
    "papermill": {
     "duration": 2.366846,
     "end_time": "2024-12-17T13:59:56.186052",
     "exception": false,
     "start_time": "2024-12-17T13:59:53.819206",
     "status": "completed"
    },
    "tags": []
   },
   "outputs": [],
   "source": [
    "import cv2\n",
    "import numpy as np\n",
    "import os\n",
    "from sklearn.svm import SVC\n",
    "from sklearn.metrics import accuracy_score, confusion_matrix, classification_report\n",
    "import joblib\n",
    "import matplotlib.pyplot as plt\n",
    "import seaborn as sns"
   ]
  },
  {
   "cell_type": "code",
   "execution_count": 3,
   "id": "62266606",
   "metadata": {
    "execution": {
     "iopub.execute_input": "2024-12-17T13:59:56.191278Z",
     "iopub.status.busy": "2024-12-17T13:59:56.190912Z",
     "iopub.status.idle": "2024-12-17T13:59:56.196514Z",
     "shell.execute_reply": "2024-12-17T13:59:56.195797Z"
    },
    "papermill": {
     "duration": 0.009983,
     "end_time": "2024-12-17T13:59:56.198104",
     "exception": false,
     "start_time": "2024-12-17T13:59:56.188121",
     "status": "completed"
    },
    "tags": []
   },
   "outputs": [],
   "source": [
    "def apply_gaussian_blur(image):\n",
    "    return cv2.GaussianBlur(image, (5, 5), 0)\n",
    "\n",
    "def apply_edge_detection(image):\n",
    "    return cv2.Canny(image, 100, 200)\n",
    "\n",
    "def extract_features(image_path):\n",
    "    image = cv2.imread(image_path, cv2.IMREAD_GRAYSCALE)\n",
    "    if image is None:\n",
    "        print(f\"Error reading image: {image_path}\")\n",
    "        return None, None\n",
    "    image = apply_gaussian_blur(image)\n",
    "    sift = cv2.SIFT_create(nfeatures=5000, contrastThreshold=0.04, edgeThreshold=10)\n",
    "    kp, des = sift.detectAndCompute(image, None)  # Use the blurred image directly\n",
    "    if des is None:\n",
    "        print(f\"No descriptors found for image: {image_path}\")\n",
    "    return kp, des"
   ]
  },
  {
   "cell_type": "code",
   "execution_count": 4,
   "id": "f386c4ea",
   "metadata": {
    "execution": {
     "iopub.execute_input": "2024-12-17T13:59:56.202866Z",
     "iopub.status.busy": "2024-12-17T13:59:56.202586Z",
     "iopub.status.idle": "2024-12-17T13:59:56.210142Z",
     "shell.execute_reply": "2024-12-17T13:59:56.209387Z"
    },
    "papermill": {
     "duration": 0.01176,
     "end_time": "2024-12-17T13:59:56.211738",
     "exception": false,
     "start_time": "2024-12-17T13:59:56.199978",
     "status": "completed"
    },
    "tags": []
   },
   "outputs": [],
   "source": [
    "def extract_dataset_features_and_labels(dataset_dir, max_images_per_class=2000//7, fixed_size=1000):\n",
    "    features = []\n",
    "    labels = []\n",
    "\n",
    "    # Get the list of class labels\n",
    "    class_labels = os.listdir(dataset_dir)\n",
    "    \n",
    "    # Filter out non-directory items\n",
    "    class_labels = [label for label in class_labels if os.path.isdir(os.path.join(dataset_dir, label))]\n",
    "\n",
    "    # Iterate through each class\n",
    "    for label in class_labels:\n",
    "        class_dir = os.path.join(dataset_dir, label)\n",
    "        print(f\"Processing class: {label}\")  # Debugging line\n",
    "\n",
    "        image_count = 0  # Counter to keep track of processed images for this class\n",
    "\n",
    "        for image_file in os.listdir(class_dir):\n",
    "            if image_file.endswith('.jpg') or image_file.endswith('.png'):\n",
    "                image_path = os.path.join(class_dir, image_file)\n",
    "                kp, des = extract_features(image_path)\n",
    "                if des is not None:\n",
    "                    # Limit the number of descriptors to fixed_size\n",
    "                    if des.shape[0] > fixed_size:\n",
    "                        des = des[:fixed_size, :]\n",
    "                    elif des.shape[0] < fixed_size:\n",
    "                        # Pad descriptors to fixed_size\n",
    "                        padding = np.zeros((fixed_size - des.shape[0], des.shape[1]))\n",
    "                        des = np.vstack([des, padding])\n",
    "\n",
    "                    # Flatten the descriptor and append to features\n",
    "                    features.append(des.flatten())\n",
    "                    labels.append(label)\n",
    "\n",
    "                    image_count += 1\n",
    "\n",
    "                    if image_count >= max_images_per_class:  # Stop after max_images_per_class\n",
    "                        break\n",
    "        print(f\"Finished processing class: {label} with {image_count} images.\")  # Debugging line\n",
    "\n",
    "    print(f\"Total features: {len(features)}\")\n",
    "    print(f\"Labels: {np.unique(labels)}\")  # Debugging line\n",
    "    return np.array(features), np.array(labels)"
   ]
  },
  {
   "cell_type": "code",
   "execution_count": 5,
   "id": "faec9907",
   "metadata": {
    "execution": {
     "iopub.execute_input": "2024-12-17T13:59:56.216554Z",
     "iopub.status.busy": "2024-12-17T13:59:56.216323Z",
     "iopub.status.idle": "2024-12-17T14:04:17.722927Z",
     "shell.execute_reply": "2024-12-17T14:04:17.722036Z"
    },
    "papermill": {
     "duration": 261.511092,
     "end_time": "2024-12-17T14:04:17.724810",
     "exception": false,
     "start_time": "2024-12-17T13:59:56.213718",
     "status": "completed"
    },
    "tags": []
   },
   "outputs": [
    {
     "name": "stdout",
     "output_type": "stream",
     "text": [
      "Processing class: Black\n",
      "Finished processing class: Black with 285 images.\n",
      "Processing class: Latino_Hispanic\n",
      "Finished processing class: Latino_Hispanic with 285 images.\n",
      "Processing class: White\n",
      "Finished processing class: White with 285 images.\n",
      "Processing class: East Asian\n",
      "Finished processing class: East Asian with 285 images.\n",
      "Processing class: Southeast Asian\n",
      "Finished processing class: Southeast Asian with 285 images.\n",
      "Processing class: Middle Eastern\n",
      "Finished processing class: Middle Eastern with 285 images.\n",
      "Processing class: Indian\n",
      "Finished processing class: Indian with 285 images.\n",
      "Total features: 1995\n",
      "Labels: ['Black' 'East Asian' 'Indian' 'Latino_Hispanic' 'Middle Eastern'\n",
      " 'Southeast Asian' 'White']\n",
      "Processing class: Black\n",
      "Finished processing class: Black with 285 images.\n",
      "Processing class: Latino_Hispanic\n",
      "Finished processing class: Latino_Hispanic with 285 images.\n",
      "Processing class: White\n",
      "Finished processing class: White with 285 images.\n",
      "Processing class: East Asian\n",
      "Finished processing class: East Asian with 285 images.\n",
      "Processing class: Southeast Asian\n",
      "Finished processing class: Southeast Asian with 285 images.\n",
      "Processing class: Middle Eastern\n",
      "Finished processing class: Middle Eastern with 285 images.\n",
      "Processing class: Indian\n",
      "Finished processing class: Indian with 285 images.\n",
      "Total features: 1995\n",
      "Labels: ['Black' 'East Asian' 'Indian' 'Latino_Hispanic' 'Middle Eastern'\n",
      " 'Southeast Asian' 'White']\n",
      "Unique train labels: ['Black' 'East Asian' 'Indian' 'Latino_Hispanic' 'Middle Eastern'\n",
      " 'Southeast Asian' 'White']\n",
      "Unique validation labels: ['Black' 'East Asian' 'Indian' 'Latino_Hispanic' 'Middle Eastern'\n",
      " 'Southeast Asian' 'White']\n"
     ]
    }
   ],
   "source": [
    "train_dir = '/kaggle/input/fairface-race/FairFace Race/train'\n",
    "val_dir = '/kaggle/input/fairface-race/FairFace Race/val'\n",
    "\n",
    "train_features, train_labels = extract_dataset_features_and_labels(train_dir)\n",
    "val_features, val_labels = extract_dataset_features_and_labels(val_dir)\n",
    "\n",
    "print(f\"Unique train labels: {np.unique(train_labels)}\")\n",
    "print(f\"Unique validation labels: {np.unique(val_labels)}\")"
   ]
  },
  {
   "cell_type": "code",
   "execution_count": 6,
   "id": "288986b6",
   "metadata": {
    "execution": {
     "iopub.execute_input": "2024-12-17T14:04:17.731436Z",
     "iopub.status.busy": "2024-12-17T14:04:17.731179Z",
     "iopub.status.idle": "2024-12-17T14:13:15.929615Z",
     "shell.execute_reply": "2024-12-17T14:13:15.928388Z"
    },
    "papermill": {
     "duration": 538.211708,
     "end_time": "2024-12-17T14:13:15.939445",
     "exception": false,
     "start_time": "2024-12-17T14:04:17.727737",
     "status": "completed"
    },
    "tags": []
   },
   "outputs": [
    {
     "name": "stdout",
     "output_type": "stream",
     "text": [
      "Processing class: Black\n",
      "Finished processing class: Black with 285 images.\n",
      "Processing class: Latino_Hispanic\n",
      "Finished processing class: Latino_Hispanic with 285 images.\n",
      "Processing class: White\n",
      "Finished processing class: White with 285 images.\n",
      "Processing class: East Asian\n",
      "Finished processing class: East Asian with 285 images.\n",
      "Processing class: Southeast Asian\n",
      "Finished processing class: Southeast Asian with 285 images.\n",
      "Processing class: Middle Eastern\n",
      "Finished processing class: Middle Eastern with 285 images.\n",
      "Processing class: Indian\n",
      "Finished processing class: Indian with 285 images.\n",
      "Total features: 1995\n",
      "Labels: ['Black' 'East Asian' 'Indian' 'Latino_Hispanic' 'Middle Eastern'\n",
      " 'Southeast Asian' 'White']\n",
      "Processing class: Black\n",
      "Finished processing class: Black with 285 images.\n",
      "Processing class: Latino_Hispanic\n",
      "Finished processing class: Latino_Hispanic with 285 images.\n",
      "Processing class: White\n",
      "Finished processing class: White with 285 images.\n",
      "Processing class: East Asian\n",
      "Finished processing class: East Asian with 285 images.\n",
      "Processing class: Southeast Asian\n",
      "Finished processing class: Southeast Asian with 285 images.\n",
      "Processing class: Middle Eastern\n",
      "Finished processing class: Middle Eastern with 285 images.\n",
      "Processing class: Indian\n",
      "Finished processing class: Indian with 285 images.\n",
      "Total features: 1995\n",
      "Labels: ['Black' 'East Asian' 'Indian' 'Latino_Hispanic' 'Middle Eastern'\n",
      " 'Southeast Asian' 'White']\n",
      "(1995, 128000) (1995,)\n"
     ]
    }
   ],
   "source": [
    "train_features, train_labels = extract_dataset_features_and_labels(train_dir)\n",
    "val_features, val_labels = extract_dataset_features_and_labels(val_dir)\n",
    "\n",
    "svm = SVC(kernel='linear')\n",
    "svm.fit(train_features, train_labels)\n",
    "print(train_features.shape, train_labels.shape)"
   ]
  },
  {
   "cell_type": "code",
   "execution_count": 7,
   "id": "348bcefa",
   "metadata": {
    "execution": {
     "iopub.execute_input": "2024-12-17T14:13:15.952180Z",
     "iopub.status.busy": "2024-12-17T14:13:15.951582Z",
     "iopub.status.idle": "2024-12-17T14:16:34.122896Z",
     "shell.execute_reply": "2024-12-17T14:16:34.121704Z"
    },
    "papermill": {
     "duration": 198.179576,
     "end_time": "2024-12-17T14:16:34.124815",
     "exception": false,
     "start_time": "2024-12-17T14:13:15.945239",
     "status": "completed"
    },
    "tags": []
   },
   "outputs": [
    {
     "name": "stdout",
     "output_type": "stream",
     "text": [
      "Validation Accuracy: 15.54%\n",
      "Model saved to svm_model.pkl\n",
      "Confusion Matrix:\n",
      "[[60 35 38 39 36 38 39]\n",
      " [43 38 34 49 41 37 43]\n",
      " [47 36 52 39 36 39 36]\n",
      " [45 44 51 44 36 31 34]\n",
      " [37 44 40 39 46 45 34]\n",
      " [42 52 40 44 35 33 39]\n",
      " [48 37 32 43 47 41 37]]\n"
     ]
    },
    {
     "data": {
      "image/png": "[encoded data removed]",
      "text/plain": [
       "<Figure size 1000x800 with 2 Axes>"
      ]
     },
     "metadata": {},
     "output_type": "display_data"
    },
    {
     "name": "stdout",
     "output_type": "stream",
     "text": [
      "Classification Report:\n",
      "                 precision    recall  f1-score   support\n",
      "\n",
      "          Black       0.19      0.21      0.20       285\n",
      "     East Asian       0.13      0.13      0.13       285\n",
      "         Indian       0.18      0.18      0.18       285\n",
      "Latino_Hispanic       0.15      0.15      0.15       285\n",
      " Middle Eastern       0.17      0.16      0.16       285\n",
      "Southeast Asian       0.12      0.12      0.12       285\n",
      "          White       0.14      0.13      0.14       285\n",
      "\n",
      "       accuracy                           0.16      1995\n",
      "      macro avg       0.15      0.16      0.15      1995\n",
      "   weighted avg       0.15      0.16      0.15      1995\n",
      "\n"
     ]
    }
   ],
   "source": [
    "val_predictions = svm.predict(val_features)\n",
    "accuracy = accuracy_score(val_labels, val_predictions)\n",
    "print(f'Validation Accuracy: {accuracy * 100:.2f}%')\n",
    "\n",
    "joblib.dump(svm, 'svm_model.pkl')\n",
    "print('Model saved to svm_model.pkl')\n",
    "\n",
    "cm = confusion_matrix(val_labels, val_predictions)\n",
    "print(\"Confusion Matrix:\")\n",
    "print(cm)\n",
    "\n",
    "plt.figure(figsize=(10, 8))\n",
    "sns.heatmap(cm, annot=True, fmt='d', cmap='Blues', xticklabels=np.unique(val_labels), yticklabels=np.unique(val_labels))\n",
    "plt.xlabel('Predicted Labels')\n",
    "plt.ylabel('True Labels')\n",
    "plt.title('Confusion Matrix')\n",
    "plt.show()\n",
    "\n",
    "# Classification Report\n",
    "print(\"Classification Report:\")\n",
    "print(classification_report(val_labels, val_predictions))"
   ]
  },
  {
   "cell_type": "code",
   "execution_count": null,
   "id": "85882150",
   "metadata": {
    "papermill": {
     "duration": 0.004286,
     "end_time": "2024-12-17T14:16:34.133599",
     "exception": false,
     "start_time": "2024-12-17T14:16:34.129313",
     "status": "completed"
    },
    "tags": []
   },
   "outputs": [],
   "source": []
  }
 ],
 "metadata": {
  "kaggle": {
   "accelerator": "gpu",
   "dataSources": [
    {
     "datasetId": 3390630,
     "sourceId": 5981564,
     "sourceType": "datasetVersion"
    }
   ],
   "dockerImageVersionId": 30805,
   "isGpuEnabled": true,
   "isInternetEnabled": true,
   "language": "python",
   "sourceType": "notebook"
  },
  "kernelspec": {
   "display_name": "Python 3",
   "language": "python",
   "name": "python3"
  },
  "language_info": {
   "codemirror_mode": {
    "name": "ipython",
    "version": 3
   },
   "file_extension": ".py",
   "mimetype": "text/x-python",
   "name": "python",
   "nbconvert_exporter": "python",
   "pygments_lexer": "ipython3",
   "version": "3.10.14"
  },
  "papermill": {
   "default_parameters": {},
   "duration": 1158.638069,
   "end_time": "2024-12-17T14:16:34.755876",
   "environment_variables": {},
   "exception": null,
   "input_path": "__notebook__.ipynb",
   "output_path": "__notebook__.ipynb",
   "parameters": {},
   "start_time": "2024-12-17T13:57:16.117807",
   "version": "2.6.0"
  }
 },
 "nbformat": 4,
 "nbformat_minor": 5
}
